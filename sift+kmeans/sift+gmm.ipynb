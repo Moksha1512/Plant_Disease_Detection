{
  "cells": [
    {
      "cell_type": "markdown",
      "source": [
        "#Imports"
      ],
      "metadata": {
        "id": "WjbrV5anKoHF"
      }
    },
    {
      "cell_type": "code",
      "source": [
        "import cv2\n",
        "import joblib\n",
        "import numpy as np\n",
        "import os\n",
        "import pandas as pd\n",
        "import random\n",
        "import scipy.ndimage\n",
        "from collections import Counter\n",
        "from matplotlib import pyplot as plt\n",
        "from PIL import Image\n",
        "from sklearn.cluster import KMeans\n",
        "from sklearn.decomposition import PCA\n",
        "from sklearn.linear_model import LogisticRegression\n",
        "from sklearn.metrics import accuracy_score\n",
        "from sklearn.metrics import adjusted_rand_score\n",
        "from sklearn.mixture import GaussianMixture\n",
        "from sklearn.model_selection import cross_val_score\n",
        "from sklearn.model_selection import train_test_split\n",
        "from sklearn.preprocessing import StandardScaler\n",
        "from tensorflow.keras.preprocessing.sequence import pad_sequences\n"
      ],
      "metadata": {
        "id": "MfwHhbYGKp10"
      },
      "execution_count": null,
      "outputs": []
    },
    {
      "cell_type": "markdown",
      "metadata": {
        "id": "5TT8YL9veT7E"
      },
      "source": [
        "#SIFT + GMM"
      ]
    },
    {
      "cell_type": "code",
      "execution_count": null,
      "metadata": {
        "id": "g3hXRV0i6tEi"
      },
      "outputs": [],
      "source": [
        "\n",
        "zip_path = \"/content/archive (4).zip\"\n",
        "with zipfile.ZipFile(zip_path, 'r') as zip_ref:\n",
        "    zip_ref.extractall(\"/content/\")"
      ]
    },
    {
      "cell_type": "code",
      "execution_count": null,
      "metadata": {
        "colab": {
          "base_uri": "https://localhost:8080/"
        },
        "id": "ezc_Wy2LdMdj",
        "outputId": "dfbb9221-3df7-4706-d61d-31584456f95e"
      },
      "outputs": [
        {
          "output_type": "stream",
          "name": "stdout",
          "text": [
            "The number of valid images to use: 20638\n",
            "The number of invalid images: 1\n",
            "Number of images in each category:\n",
            "Tomato_Septoria_leaf_spot: 1771\n",
            "Tomato__Tomato_YellowLeaf__Curl_Virus: 3208\n",
            "Pepper__bell___healthy: 1478\n",
            "Potato___Early_blight: 1000\n",
            "Tomato__Target_Spot: 1404\n",
            "Potato___healthy: 152\n",
            "Tomato_Early_blight: 1000\n",
            "Pepper__bell___Bacterial_spot: 997\n",
            "Tomato_healthy: 1591\n",
            "Potato___Late_blight: 1000\n",
            "Tomato_Bacterial_spot: 2127\n",
            "Tomato__Tomato_mosaic_virus: 373\n",
            "Tomato_Spider_mites_Two_spotted_spider_mite: 1676\n",
            "Tomato_Late_blight: 1909\n",
            "Tomato_Leaf_Mold: 952\n"
          ]
        }
      ],
      "source": [
        "\n",
        "labels_list = []\n",
        "valid_images_to_continue_with = []\n",
        "invalid_images = 0\n",
        "categories_name = {}\n",
        "\n",
        "def check_valid_images_all_folders(directory):\n",
        "    global invalid_images\n",
        "    for i, folder in enumerate(os.listdir(directory)):\n",
        "        folder_path = os.path.join(directory, folder)\n",
        "\n",
        "        if os.path.isdir(folder_path):\n",
        "            categories_name[folder] = 0\n",
        "            for filename in os.listdir(folder_path):\n",
        "                file_path = os.path.join(folder_path, filename)\n",
        "\n",
        "                try:\n",
        "                    img = cv2.imread(file_path)\n",
        "                    if img is None:\n",
        "                        invalid_images += 1\n",
        "                    else:\n",
        "                        valid_images_to_continue_with.append(img)\n",
        "                        labels_list.append(folder)\n",
        "                        categories_name[folder] += 1\n",
        "                except Exception as e:\n",
        "                    invalid_images += 1\n",
        "\n",
        "check_valid_images_all_folders('/content/PlantVillage')\n",
        "\n",
        "print('The number of valid images to use:', len(valid_images_to_continue_with))\n",
        "print('The number of invalid images:', invalid_images)\n",
        "print('Number of images in each category:')\n",
        "for category, count in categories_name.items():\n",
        "    print(f'{category}: {count}')\n"
      ]
    },
    {
      "cell_type": "code",
      "execution_count": null,
      "metadata": {
        "id": "nnvJLJvieYuQ"
      },
      "outputs": [],
      "source": [
        "\n",
        "keypoints_list=[]\n",
        "descriptors_list=[]\n",
        "sift = cv2.SIFT_create(nfeatures=100)\n",
        "\n",
        "\n",
        "for i in range(len(valid_images_to_continue_with)):\n",
        "    image = valid_images_to_continue_with[i]\n",
        "    gray_image = cv2.cvtColor(image, cv2.COLOR_BGR2GRAY)\n",
        "\n",
        "\n",
        "    keypoints, descriptors = sift.detectAndCompute(gray_image, None)\n",
        "    keypoints_list.append(keypoints)\n",
        "    descriptors_list.append(descriptors)"
      ]
    },
    {
      "cell_type": "code",
      "execution_count": null,
      "metadata": {
        "id": "Llu1LhXxe4RE"
      },
      "outputs": [],
      "source": [
        "\n",
        "\n",
        "filtered_descriptors = [desc for desc in descriptors_list if desc is not None]\n",
        "\n",
        "max_length = 100\n",
        "padded_descriptors = pad_sequences(filtered_descriptors, maxlen=max_length, padding='post', truncating='post', dtype='float32')\n",
        "\n",
        "flattened_descriptors = padded_descriptors.reshape((len(padded_descriptors), -1))\n",
        "\n",
        "X = np.array(flattened_descriptors)"
      ]
    },
    {
      "cell_type": "code",
      "execution_count": null,
      "metadata": {
        "colab": {
          "base_uri": "https://localhost:8080/"
        },
        "id": "ZIcG3eiIe8mc",
        "outputId": "93f3c0fe-f952-49a2-a236-a0356f770d79"
      },
      "outputs": [
        {
          "output_type": "stream",
          "name": "stdout",
          "text": [
            "{'Pepper__bell___healthy': 0, 'Potato___healthy': 1, 'Tomato__Target_Spot': 2, 'Tomato_Spider_mites_Two_spotted_spider_mite': 3, 'Tomato__Tomato_YellowLeaf__Curl_Virus': 4, 'Tomato_healthy': 5, 'Potato___Late_blight': 6, 'Pepper__bell___Bacterial_spot': 7, 'Tomato__Tomato_mosaic_virus': 8, 'Tomato_Bacterial_spot': 9, 'Tomato_Late_blight': 10, 'Potato___Early_blight': 11, 'Tomato_Septoria_leaf_spot': 12, 'Tomato_Early_blight': 13, 'Tomato_Leaf_Mold': 14}\n"
          ]
        }
      ],
      "source": [
        "\n",
        "label_mapping = {label: i for i, label in enumerate(set(labels_list))}\n",
        "labels_list_int = [label_mapping[label] for label in labels_list]\n",
        "\n",
        "print(label_mapping)"
      ]
    },
    {
      "cell_type": "code",
      "execution_count": null,
      "metadata": {
        "id": "vQZmMa-cfwcg"
      },
      "outputs": [],
      "source": [
        "\n",
        "X_train, X_test, y_train, y_test = train_test_split(\n",
        "    X, labels_list_int, test_size=0.2, random_state=42\n",
        ")\n",
        "\n",
        "scaler = StandardScaler()\n",
        "X_train_scaled = scaler.fit_transform(X_train)\n",
        "X_test_scaled = scaler.transform(X_test)\n",
        "\n",
        "pca = PCA(n_components=128)\n",
        "X_train_reduced = pca.fit_transform(X_train_scaled)\n",
        "X_test_reduced = pca.transform(X_test_scaled)\n",
        "\n",
        "K = 15\n",
        "\n",
        "gmm_model = GaussianMixture(n_components=K, random_state=42, max_iter=500)\n",
        "\n",
        "gmm_model.fit(X_train_reduced)\n",
        "\n",
        "y_pred_train = gmm_model.predict(X_train_reduced)\n",
        "y_pred_test = gmm_model.predict(X_test_reduced)"
      ]
    },
    {
      "cell_type": "code",
      "execution_count": null,
      "metadata": {
        "colab": {
          "base_uri": "https://localhost:8080/"
        },
        "id": "-2iPgXc7f1tW",
        "outputId": "b0d7f12c-dde2-4068-95e5-2aa2ef81b44b"
      },
      "outputs": [
        {
          "output_type": "stream",
          "name": "stdout",
          "text": [
            "Accuracy Score:\n",
            "0.10271317829457365\n"
          ]
        }
      ],
      "source": [
        "print(\"Accuracy Score:\")\n",
        "print(accuracy_score(y_test, y_pred_test))"
      ]
    },
    {
      "cell_type": "code",
      "execution_count": null,
      "metadata": {
        "colab": {
          "base_uri": "https://localhost:8080/",
          "height": 329
        },
        "id": "mbgTzduBgHoM",
        "outputId": "2cc0e0c9-a111-4938-e8a8-0faa3dab7e67",
        "collapsed": true
      },
      "outputs": [
        {
          "output_type": "error",
          "ename": "error",
          "evalue": "OpenCV(4.11.0) /io/opencv/modules/imgproc/src/color.cpp:199: error: (-215:Assertion failed) !_src.empty() in function 'cvtColor'\n",
          "traceback": [
            "\u001b[0;31m---------------------------------------------------------------------------\u001b[0m",
            "\u001b[0;31merror\u001b[0m                                     Traceback (most recent call last)",
            "\u001b[0;32m<ipython-input-9-9543f8a62415>\u001b[0m in \u001b[0;36m<cell line: 0>\u001b[0;34m()\u001b[0m\n\u001b[1;32m     80\u001b[0m \u001b[0;34m\u001b[0m\u001b[0m\n\u001b[1;32m     81\u001b[0m \u001b[0mnew_image\u001b[0m \u001b[0;34m=\u001b[0m \u001b[0mcv2\u001b[0m\u001b[0;34m.\u001b[0m\u001b[0mimread\u001b[0m\u001b[0;34m(\u001b[0m\u001b[0;34m'/content/tomato_bacteria_spot.jpg'\u001b[0m\u001b[0;34m)\u001b[0m\u001b[0;34m\u001b[0m\u001b[0;34m\u001b[0m\u001b[0m\n\u001b[0;32m---> 82\u001b[0;31m \u001b[0mpredicted_class\u001b[0m \u001b[0;34m=\u001b[0m \u001b[0mpredict_class\u001b[0m\u001b[0;34m(\u001b[0m\u001b[0mnew_image\u001b[0m\u001b[0;34m)\u001b[0m\u001b[0;34m\u001b[0m\u001b[0;34m\u001b[0m\u001b[0m\n\u001b[0m\u001b[1;32m     83\u001b[0m \u001b[0mprint\u001b[0m\u001b[0;34m(\u001b[0m\u001b[0;34m\"Predicted class:\"\u001b[0m\u001b[0;34m,\u001b[0m \u001b[0mpredicted_class\u001b[0m\u001b[0;34m)\u001b[0m\u001b[0;34m\u001b[0m\u001b[0;34m\u001b[0m\u001b[0m\n",
            "\u001b[0;32m<ipython-input-9-9543f8a62415>\u001b[0m in \u001b[0;36mpredict_class\u001b[0;34m(image)\u001b[0m\n\u001b[1;32m     61\u001b[0m \u001b[0;34m\u001b[0m\u001b[0m\n\u001b[1;32m     62\u001b[0m \u001b[0;32mdef\u001b[0m \u001b[0mpredict_class\u001b[0m\u001b[0;34m(\u001b[0m\u001b[0mimage\u001b[0m\u001b[0;34m)\u001b[0m\u001b[0;34m:\u001b[0m\u001b[0;34m\u001b[0m\u001b[0;34m\u001b[0m\u001b[0m\n\u001b[0;32m---> 63\u001b[0;31m     \u001b[0mgray_image\u001b[0m \u001b[0;34m=\u001b[0m \u001b[0mcv2\u001b[0m\u001b[0;34m.\u001b[0m\u001b[0mcvtColor\u001b[0m\u001b[0;34m(\u001b[0m\u001b[0mimage\u001b[0m\u001b[0;34m,\u001b[0m \u001b[0mcv2\u001b[0m\u001b[0;34m.\u001b[0m\u001b[0mCOLOR_BGR2GRAY\u001b[0m\u001b[0;34m)\u001b[0m\u001b[0;34m\u001b[0m\u001b[0;34m\u001b[0m\u001b[0m\n\u001b[0m\u001b[1;32m     64\u001b[0m     \u001b[0mkeypoints\u001b[0m\u001b[0;34m,\u001b[0m \u001b[0mdescriptors\u001b[0m \u001b[0;34m=\u001b[0m \u001b[0msift\u001b[0m\u001b[0;34m.\u001b[0m\u001b[0mdetectAndCompute\u001b[0m\u001b[0;34m(\u001b[0m\u001b[0mgray_image\u001b[0m\u001b[0;34m,\u001b[0m \u001b[0;32mNone\u001b[0m\u001b[0;34m)\u001b[0m\u001b[0;34m\u001b[0m\u001b[0;34m\u001b[0m\u001b[0m\n\u001b[1;32m     65\u001b[0m \u001b[0;34m\u001b[0m\u001b[0m\n",
            "\u001b[0;31merror\u001b[0m: OpenCV(4.11.0) /io/opencv/modules/imgproc/src/color.cpp:199: error: (-215:Assertion failed) !_src.empty() in function 'cvtColor'\n"
          ]
        }
      ],
      "source": [
        "\n",
        "cluster_label_mapping = {}\n",
        "gmm_train_preds = gmm_model.predict(X_train_reduced)\n",
        "for cluster in range(K):\n",
        "    indices = [i for i, c in enumerate(gmm_train_preds) if c == cluster]\n",
        "    if indices:\n",
        "        majority_label = Counter(np.array(y_train)[indices]).most_common(1)[0][0]\n",
        "        cluster_label_mapping[cluster] = majority_label\n",
        "\n",
        "inv_label_mapping = {v: k for k, v in label_mapping.items()}\n",
        "\n",
        "cluster_class_mapping = {cluster: inv_label_mapping[majority_label]\n",
        "                         for cluster, majority_label in cluster_label_mapping.items()}\n",
        "\n",
        "def predict_class(image):\n",
        "    gray_image = cv2.cvtColor(image, cv2.COLOR_BGR2GRAY)\n",
        "    keypoints, descriptors = sift.detectAndCompute(gray_image, None)\n",
        "\n",
        "    if descriptors is None:\n",
        "        return \"No features found in the image.\"\n",
        "\n",
        "    padded_descriptor = pad_sequences([descriptors],\n",
        "                                      maxlen=max_length,\n",
        "                                      padding='post',\n",
        "                                      truncating='post',\n",
        "                                      dtype='float32')\n",
        "    flattened_descriptor = padded_descriptor.reshape((1, -1))\n",
        "    scaled = scaler.transform(flattened_descriptor)\n",
        "    reduced = pca.transform(scaled)\n",
        "\n",
        "    predicted_cluster = gmm_model.predict(reduced)[0]\n",
        "    return cluster_class_mapping.get(predicted_cluster, \"Unknown\")\n",
        "\n",
        "new_image = cv2.imread('/content/tomato_bacteria_spot.jpg')\n",
        "predicted_class = predict_class(new_image)\n",
        "print(\"Predicted class:\", predicted_class)\n"
      ]
    },
    {
      "cell_type": "code",
      "execution_count": null,
      "metadata": {
        "colab": {
          "base_uri": "https://localhost:8080/"
        },
        "id": "et0iYNfAnRPs",
        "outputId": "22281649-1e45-4fc5-ac03-e09fd11e2846"
      },
      "outputs": [
        {
          "output_type": "execute_result",
          "data": {
            "text/plain": [
              "['scaler.pkl']"
            ]
          },
          "metadata": {},
          "execution_count": 10
        }
      ],
      "source": [
        "\n",
        "joblib.dump(gmm_model, 'gmm_model.pkl')\n",
        "joblib.dump(pca, 'pca_transform.pkl')\n",
        "joblib.dump(scaler, 'scaler.pkl')"
      ]
    },
    {
      "cell_type": "code",
      "source": [
        "\n",
        "label_mapping = {\n",
        "    'Tomato_Leaf_Mold': 0, 'Potato___Early_blight': 1, 'Potato___healthy': 2,\n",
        "    'Tomato_Bacterial_spot': 3, 'Tomato__Target_Spot': 4, 'Tomato_Septoria_leaf_spot': 5,\n",
        "    'Tomato__Tomato_YellowLeaf__Curl_Virus': 6, 'Pepper__bell___Bacterial_spot': 7,\n",
        "    'Pepper__bell___healthy': 8, 'Tomato_Late_blight': 9, 'Potato___Late_blight': 10,\n",
        "    'Tomato_healthy': 11, 'Tomato_Spider_mites_Two_spotted_spider_mite': 12,\n",
        "    'Tomato__Tomato_mosaic_virus': 13, 'Tomato_Early_blight': 14\n",
        "}\n",
        "inv_label_mapping = {v: k for k, v in label_mapping.items()}\n",
        "\n",
        "gmm_labels = gmm_model.predict(X_train_reduced)\n",
        "\n",
        "K = gmm_model.n_components\n",
        "cluster_label_mapping = {}\n",
        "for cluster in range(K):\n",
        "    indices = [i for i, c in enumerate(gmm_labels) if c == cluster]\n",
        "    if indices:\n",
        "        majority_label = Counter(np.array(y_train)[indices]).most_common(1)[0][0]\n",
        "        cluster_label_mapping[cluster] = majority_label\n",
        "\n",
        "cluster_class_mapping = {\n",
        "    cluster: inv_label_mapping[label] for cluster, label in cluster_label_mapping.items()\n",
        "}\n",
        "\n",
        "joblib.dump(cluster_class_mapping, 'cluster_class_mapping.pkl')\n",
        "print(\"✅ cluster_class_mapping.pkl saved.\")\n"
      ],
      "metadata": {
        "colab": {
          "base_uri": "https://localhost:8080/"
        },
        "id": "t4NvxApXcgPd",
        "outputId": "68619517-23df-409a-86f6-b6847e18ce40"
      },
      "execution_count": null,
      "outputs": [
        {
          "output_type": "stream",
          "name": "stdout",
          "text": [
            "✅ cluster_class_mapping.pkl saved.\n"
          ]
        }
      ]
    },
    {
      "cell_type": "code",
      "source": [
        "\n",
        "scaler = joblib.load('scaler.pkl')\n",
        "pca = joblib.load('pca_transform.pkl')\n",
        "gmm_model = joblib.load('gmm_model.pkl')\n",
        "cluster_class_mapping = joblib.load('cluster_class_mapping.pkl')\n",
        "\n",
        "max_length = 100\n",
        "sift = cv2.SIFT_create(nfeatures=100)\n",
        "\n",
        "def predict_class_from_image(image_path):\n",
        "    image = cv2.imread(image_path)\n",
        "    gray_image = cv2.cvtColor(image, cv2.COLOR_BGR2GRAY)\n",
        "\n",
        "    keypoints, descriptors = sift.detectAndCompute(gray_image, None)\n",
        "    if descriptors is None:\n",
        "        return \"No features found.\"\n",
        "\n",
        "    padded_descriptor = pad_sequences([descriptors], maxlen=max_length, padding='post', truncating='post', dtype='float32')\n",
        "    flat_descriptor = padded_descriptor.reshape((1, -1))\n",
        "    scaled = scaler.transform(flat_descriptor)\n",
        "    reduced = pca.transform(scaled)\n",
        "\n",
        "    predicted_cluster = gmm_model.predict(reduced)[0]\n",
        "    return cluster_class_mapping.get(predicted_cluster, \"Unknown\")\n",
        "\n",
        "predicted = predict_class_from_image('/content/f91b6466-7c71-44ef-86f4-eaf2cdabf8bf___Crnl_L.Mold 7055.JPG')\n",
        "print(\"Predicted class:\", predicted)\n"
      ],
      "metadata": {
        "colab": {
          "base_uri": "https://localhost:8080/"
        },
        "id": "feCYTyOEfZvb",
        "outputId": "4744da6f-9993-484b-f486-86ccbb85838a"
      },
      "execution_count": null,
      "outputs": [
        {
          "output_type": "stream",
          "name": "stdout",
          "text": [
            "Predicted class: Potato___healthy\n"
          ]
        }
      ]
    }
  ],
  "metadata": {
    "colab": {
      "provenance": []
    },
    "kernelspec": {
      "display_name": "Python 3",
      "name": "python3"
    },
    "language_info": {
      "name": "python"
    }
  },
  "nbformat": 4,
  "nbformat_minor": 0
}